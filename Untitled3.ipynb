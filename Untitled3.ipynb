{
 "cells": [
  {
   "cell_type": "code",
   "execution_count": 1,
   "id": "1c87dad7-52fd-4b58-8e76-7155b1ea2770",
   "metadata": {
    "tags": []
   },
   "outputs": [],
   "source": [
    "import glob\n",
    "import pandas as pd\n",
    "from datetime import datetime"
   ]
  },
  {
   "cell_type": "code",
   "execution_count": 2,
   "id": "29dd39ea-532b-46f5-a62d-82c785a50705",
   "metadata": {
    "tags": []
   },
   "outputs": [],
   "source": [
    "tmpfile    = \"temp.tmp\"\n",
    "logfile    = \"logfile.txt\"\n",
    "targetfile = \"transformed_data.csv\""
   ]
  },
  {
   "cell_type": "code",
   "execution_count": 3,
   "id": "9f4f5918-908e-4975-ab2f-ac62421dbd7c",
   "metadata": {
    "tags": []
   },
   "outputs": [],
   "source": [
    "def extract_from_json(file_to_process):\n",
    "    dataframe = pd.read_json(file_to_process)\n",
    "    return dataframe"
   ]
  },
  {
   "cell_type": "code",
   "execution_count": 4,
   "id": "c98f0c3d-629f-4082-bcfd-f93908a220bc",
   "metadata": {
    "tags": []
   },
   "outputs": [],
   "source": [
    "def extract():\n",
    "    # Write your code here\n",
    "    extracted_data = pd.DataFrame(columns=['Name','Market Cap (US$ Billion)'])\n",
    "    for jsonfile in glob.glob(\"bank_market*.json\"):\n",
    "        extracted_data = extracted_data.append(extract_from_json(jsonfile), ignore_index=True)\n",
    "    return extracted_data"
   ]
  },
  {
   "cell_type": "code",
   "execution_count": 8,
   "id": "f80e57f7-4689-43e0-9385-601103ec79cb",
   "metadata": {
    "tags": []
   },
   "outputs": [],
   "source": [
    "data = pd.read_csv('exchange_rates.csv', index_col = 0)\n",
    "exchange_rate = data.loc['GBP', 'Rates']\n"
   ]
  },
  {
   "cell_type": "code",
   "execution_count": null,
   "id": "7ada05e8-6e40-4136-aaa4-9f1f23d40481",
   "metadata": {},
   "outputs": [],
   "source": [
    "exchanged_rate"
   ]
  },
  {
   "cell_type": "code",
   "execution_count": 9,
   "id": "975b388a-27cb-48d7-8f5b-68568c4a43e3",
   "metadata": {
    "tags": []
   },
   "outputs": [],
   "source": [
    "def transform(data):\n",
    "    data.rename(columns={\"Market Cap (US$ Billion)\": \"Market Cap (GBP$ Billion)\"}, inplace=True)\n",
    "    data[\"Market Cap (GBP$ Billion)\"] = data[\"Market Cap (GBP$ Billion)\"] * exchange_rate\n",
    "    data[\"Market Cap (GBP$ Billion)\"] = data[\"Market Cap (GBP$ Billion)\"].round(3)\n",
    "    return data"
   ]
  },
  {
   "cell_type": "code",
   "execution_count": 10,
   "id": "1b149e37-38da-4e82-bd19-4a43206d7891",
   "metadata": {
    "tags": []
   },
   "outputs": [],
   "source": [
    "def load(targetfile,transformed_data):\n",
    "    transformed_data.to_csv(targetfile, index = False)"
   ]
  },
  {
   "cell_type": "code",
   "execution_count": 11,
   "id": "213bdd30-2f04-4b83-8886-08d5ab1e903e",
   "metadata": {
    "tags": []
   },
   "outputs": [],
   "source": [
    "def log(message):\n",
    "    timestamp_format = '%Y-%h-%d-%H:%M:%S' # Year-Monthname-Day-Hour-Minute-Second\n",
    "    now = datetime.now() # get current timestamp\n",
    "    timestamp = now.strftime(timestamp_format)\n",
    "    with open(\"logfile.txt\",\"a\") as f:\n",
    "        f.write(timestamp + ',' + message + '\\n')"
   ]
  },
  {
   "cell_type": "code",
   "execution_count": 12,
   "id": "4e9dd188-4b39-4b93-b794-1d89ef4d7f98",
   "metadata": {
    "tags": []
   },
   "outputs": [],
   "source": [
    "log(\"ETL Job Started\")"
   ]
  },
  {
   "cell_type": "code",
   "execution_count": 13,
   "id": "cb50e6fc-da66-45a9-a7e5-e74703a96dbd",
   "metadata": {
    "tags": []
   },
   "outputs": [
    {
     "data": {
      "text/html": [
       "<div>\n",
       "<style scoped>\n",
       "    .dataframe tbody tr th:only-of-type {\n",
       "        vertical-align: middle;\n",
       "    }\n",
       "\n",
       "    .dataframe tbody tr th {\n",
       "        vertical-align: top;\n",
       "    }\n",
       "\n",
       "    .dataframe thead th {\n",
       "        text-align: right;\n",
       "    }\n",
       "</style>\n",
       "<table border=\"1\" class=\"dataframe\">\n",
       "  <thead>\n",
       "    <tr style=\"text-align: right;\">\n",
       "      <th></th>\n",
       "      <th>Name</th>\n",
       "      <th>Market Cap (US$ Billion)</th>\n",
       "    </tr>\n",
       "  </thead>\n",
       "  <tbody>\n",
       "    <tr>\n",
       "      <th>0</th>\n",
       "      <td>JPMorgan Chase</td>\n",
       "      <td>390.934</td>\n",
       "    </tr>\n",
       "    <tr>\n",
       "      <th>1</th>\n",
       "      <td>Industrial and Commercial Bank of China</td>\n",
       "      <td>345.214</td>\n",
       "    </tr>\n",
       "    <tr>\n",
       "      <th>2</th>\n",
       "      <td>Bank of America</td>\n",
       "      <td>325.331</td>\n",
       "    </tr>\n",
       "    <tr>\n",
       "      <th>3</th>\n",
       "      <td>Wells Fargo</td>\n",
       "      <td>308.013</td>\n",
       "    </tr>\n",
       "    <tr>\n",
       "      <th>4</th>\n",
       "      <td>China Construction Bank</td>\n",
       "      <td>257.399</td>\n",
       "    </tr>\n",
       "  </tbody>\n",
       "</table>\n",
       "</div>"
      ],
      "text/plain": [
       "                                      Name  Market Cap (US$ Billion)\n",
       "0                           JPMorgan Chase                   390.934\n",
       "1  Industrial and Commercial Bank of China                   345.214\n",
       "2                          Bank of America                   325.331\n",
       "3                              Wells Fargo                   308.013\n",
       "4                  China Construction Bank                   257.399"
      ]
     },
     "execution_count": 13,
     "metadata": {},
     "output_type": "execute_result"
    }
   ],
   "source": [
    "log(\"Extract phase Started\")\n",
    "extracted_data = extract()\n",
    "extracted_data.head(5)"
   ]
  },
  {
   "cell_type": "code",
   "execution_count": 14,
   "id": "8ad687c5-995e-472c-bcc3-91a1715c6ef6",
   "metadata": {
    "tags": []
   },
   "outputs": [],
   "source": [
    "log(\"Extract phase Ended\")"
   ]
  },
  {
   "cell_type": "code",
   "execution_count": 15,
   "id": "3c065ace-1bce-4bc0-bdd4-d34375f2354e",
   "metadata": {
    "tags": []
   },
   "outputs": [
    {
     "data": {
      "text/html": [
       "<div>\n",
       "<style scoped>\n",
       "    .dataframe tbody tr th:only-of-type {\n",
       "        vertical-align: middle;\n",
       "    }\n",
       "\n",
       "    .dataframe tbody tr th {\n",
       "        vertical-align: top;\n",
       "    }\n",
       "\n",
       "    .dataframe thead th {\n",
       "        text-align: right;\n",
       "    }\n",
       "</style>\n",
       "<table border=\"1\" class=\"dataframe\">\n",
       "  <thead>\n",
       "    <tr style=\"text-align: right;\">\n",
       "      <th></th>\n",
       "      <th>Name</th>\n",
       "      <th>Market Cap (GBP$ Billion)</th>\n",
       "    </tr>\n",
       "  </thead>\n",
       "  <tbody>\n",
       "    <tr>\n",
       "      <th>0</th>\n",
       "      <td>JPMorgan Chase</td>\n",
       "      <td>286.319</td>\n",
       "    </tr>\n",
       "    <tr>\n",
       "      <th>1</th>\n",
       "      <td>Industrial and Commercial Bank of China</td>\n",
       "      <td>252.834</td>\n",
       "    </tr>\n",
       "    <tr>\n",
       "      <th>2</th>\n",
       "      <td>Bank of America</td>\n",
       "      <td>238.272</td>\n",
       "    </tr>\n",
       "    <tr>\n",
       "      <th>3</th>\n",
       "      <td>Wells Fargo</td>\n",
       "      <td>225.588</td>\n",
       "    </tr>\n",
       "    <tr>\n",
       "      <th>4</th>\n",
       "      <td>China Construction Bank</td>\n",
       "      <td>188.519</td>\n",
       "    </tr>\n",
       "  </tbody>\n",
       "</table>\n",
       "</div>"
      ],
      "text/plain": [
       "                                      Name  Market Cap (GBP$ Billion)\n",
       "0                           JPMorgan Chase                    286.319\n",
       "1  Industrial and Commercial Bank of China                    252.834\n",
       "2                          Bank of America                    238.272\n",
       "3                              Wells Fargo                    225.588\n",
       "4                  China Construction Bank                    188.519"
      ]
     },
     "execution_count": 15,
     "metadata": {},
     "output_type": "execute_result"
    }
   ],
   "source": [
    "log(\"Transform phase Started\")\n",
    "transformed_data = transform(extracted_data)\n",
    "transformed_data.head(5)"
   ]
  },
  {
   "cell_type": "code",
   "execution_count": 16,
   "id": "f991441a-3409-44e9-b192-42e53c93cde5",
   "metadata": {
    "tags": []
   },
   "outputs": [],
   "source": [
    "log(\"Transform phase Ended\")"
   ]
  },
  {
   "cell_type": "code",
   "execution_count": 17,
   "id": "54a94191-de6c-4969-abec-aa98ec2e721c",
   "metadata": {
    "tags": []
   },
   "outputs": [],
   "source": [
    "log(\"Load phase Started\")\n",
    "load('bank_market_cap_gbp.csv',transformed_data)"
   ]
  },
  {
   "cell_type": "code",
   "execution_count": 18,
   "id": "ba3f4cad-338e-45f1-8f8e-976aec449a53",
   "metadata": {
    "tags": []
   },
   "outputs": [],
   "source": [
    "log(\"ETL Job Ended\")"
   ]
  },
  {
   "cell_type": "code",
   "execution_count": null,
   "id": "58f3aecd-3176-4f5d-bde6-f88e55e51758",
   "metadata": {},
   "outputs": [],
   "source": []
  }
 ],
 "metadata": {
  "kernelspec": {
   "display_name": "Python",
   "language": "python",
   "name": "conda-env-python-py"
  },
  "language_info": {
   "codemirror_mode": {
    "name": "ipython",
    "version": 3
   },
   "file_extension": ".py",
   "mimetype": "text/x-python",
   "name": "python",
   "nbconvert_exporter": "python",
   "pygments_lexer": "ipython3",
   "version": "3.7.12"
  }
 },
 "nbformat": 4,
 "nbformat_minor": 5
}
